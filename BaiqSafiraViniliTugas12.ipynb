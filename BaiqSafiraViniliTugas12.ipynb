{
  "nbformat": 4,
  "nbformat_minor": 0,
  "metadata": {
    "colab": {
      "name": "Untitled3.ipynb",
      "provenance": [],
      "authorship_tag": "ABX9TyNfohcYMZ/xDeCbfSt66Fn2",
      "include_colab_link": true
    },
    "kernelspec": {
      "name": "python3",
      "display_name": "Python 3"
    }
  },
  "cells": [
    {
      "cell_type": "markdown",
      "metadata": {
        "id": "view-in-github",
        "colab_type": "text"
      },
      "source": [
        "<a href=\"https://colab.research.google.com/github/Baiqsafiravinili/Python-tugas-12/blob/main/BaiqSafiraViniliTugas12.ipynb\" target=\"_parent\"><img src=\"https://colab.research.google.com/assets/colab-badge.svg\" alt=\"Open In Colab\"/></a>"
      ]
    },
    {
      "cell_type": "code",
      "metadata": {
        "colab": {
          "base_uri": "https://localhost:8080/"
        },
        "id": "fG5SdOksOmiv",
        "outputId": "f335d11b-ce89-41f7-ce48-db2b35680b81"
      },
      "source": [
        "import numpy as np\r\n",
        "y=10*np.log10(100)\r\n",
        "print(y)"
      ],
      "execution_count": 4,
      "outputs": [
        {
          "output_type": "stream",
          "text": [
            "20.0\n"
          ],
          "name": "stdout"
        }
      ]
    },
    {
      "cell_type": "code",
      "metadata": {
        "colab": {
          "base_uri": "https://localhost:8080/"
        },
        "id": "aQ1a-tOjOqCL",
        "outputId": "ba7e99b2-8886-40ed-fe96-7b69b2afe9ed"
      },
      "source": [
        "NtL = lambda x: 10*np.log10(x)\r\n",
        "z=NtL(100)\r\n",
        "print(z)\r\n",
        "LtN = lambda x: 10**(x/20)\r\n",
        "y=LtN(3)\r\n",
        "print(y)\r\n",
        "PL = -22.75 + (20*np.log10(500)) + (20*np.log10(1800000000))"
      ],
      "execution_count": 5,
      "outputs": [
        {
          "output_type": "stream",
          "text": [
            "20.0\n",
            "1.4125375446227544\n"
          ],
          "name": "stdout"
        }
      ]
    },
    {
      "cell_type": "code",
      "metadata": {
        "id": "ejLDBqVGPT6g"
      },
      "source": [
        "def ploss(d,f):\r\n",
        "  pldb=-22.75 + (20*np.log10(d)) + (20*np.log10(f))\r\n",
        "  plnum=LtN(-pldb)\r\n",
        "  return pldb,plnum\r\n",
        "  pathlossdb, pathlossnum = ploss(150,900000000)\r\n",
        "print(\"pathloss dalam db =\",pathlossdb,\"dB\")\r\n",
        "ef Prx(d,f,Ptx):"
      ],
      "execution_count": null,
      "outputs": []
    },
    {
      "cell_type": "code",
      "metadata": {
        "id": "ckPr6DM1PcgU"
      },
      "source": [
        "#fungsi menghitung daya terima, input d(jarak(km))\r\n",
        "  #f(frekuensi(MHz)), dan Ptx(daya pancar (W))"
      ],
      "execution_count": 9,
      "outputs": []
    },
    {
      "cell_type": "code",
      "metadata": {
        "id": "t9RXPo80PmTD"
      },
      "source": [
        " #mengubah Ptx dari Watt ke dBW\r\n",
        "  Pdb = NtL(Ptx)"
      ],
      "execution_count": null,
      "outputs": []
    },
    {
      "cell_type": "code",
      "metadata": {
        "id": "oAsB0A-DPvcr"
      },
      "source": [
        "#menghitung pathloss\r\n",
        "  pldb= 32.5 + (20*np.log10(d)) + (20*np.log10(f))"
      ],
      "execution_count": null,
      "outputs": []
    },
    {
      "cell_type": "code",
      "metadata": {
        "id": "T5Pj2HqaPzsE"
      },
      "source": [
        "#hitung prx dalam dB\r\n",
        "  prdb=Pdb-pldb"
      ],
      "execution_count": null,
      "outputs": []
    },
    {
      "cell_type": "code",
      "metadata": {
        "id": "m42ZMS9MP4ZB"
      },
      "source": [
        "#ubah daya terima ke bentuk numerik\r\n",
        "  prx=LtN(prdb)"
      ],
      "execution_count": null,
      "outputs": []
    },
    {
      "cell_type": "code",
      "metadata": {
        "id": "BdapLhb8P8Cj"
      },
      "source": [
        "return prx,prdb"
      ],
      "execution_count": null,
      "outputs": []
    }
  ]
}